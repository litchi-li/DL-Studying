{
 "nbformat": 4,
 "nbformat_minor": 2,
 "metadata": {
  "language_info": {
   "name": "python",
   "codemirror_mode": {
    "name": "ipython",
    "version": 3
   },
   "version": "3.7.5-final"
  },
  "orig_nbformat": 2,
  "file_extension": ".py",
  "mimetype": "text/x-python",
  "name": "python",
  "npconvert_exporter": "python",
  "pygments_lexer": "ipython3",
  "version": 3,
  "kernelspec": {
   "name": "python37564bitgluonconda8cb0efdd6ee24ac6a9a6abe27a97e6d8",
   "display_name": "Python 3.7.5 64-bit ('gluon': conda)"
  }
 },
 "cells": [
  {
   "cell_type": "code",
   "execution_count": 5,
   "metadata": {},
   "outputs": [],
   "source": [
    "from mxnet import nd\n",
    "import d2lzh as d2l"
   ]
  },
  {
   "cell_type": "code",
   "execution_count": 6,
   "metadata": {},
   "outputs": [
    {
     "data": {
      "text/plain": "\n[[[0.5204775  0.7805292  0.67887956 0.11827442 0.7206327 ]\n  [0.639921   0.5820198  0.14335328 0.53737324 0.9446689 ]\n  [0.7586156  0.5218483  0.1059076  0.41466194 0.47360042]]\n\n [[0.2645556  0.18633235 0.7742337  0.73691815 0.45615032]\n  [0.21655035 0.56843394 0.13521817 0.0187898  0.324141  ]\n  [0.6176355  0.14967486 0.6120957  0.22232139 0.616934  ]]]\n<NDArray 2x3x5 @cpu(0)>"
     },
     "execution_count": 6,
     "metadata": {},
     "output_type": "execute_result"
    }
   ],
   "source": [
    "X = nd.random.uniform(shape=(2, 3, 5))\n",
    "X"
   ]
  },
  {
   "cell_type": "code",
   "execution_count": 7,
   "metadata": {},
   "outputs": [],
   "source": [
    "X = nd.array([[[0, 1, 2], [3, 4, 5], [6, 7, 8]],\n",
    "              [[1, 2, 3], [4, 5, 6], [7, 8, 9]]])\n",
    "              \n",
    "K = nd.array([[[0, 1], [2, 3]], [[1, 2], [3, 4]]])"
   ]
  },
  {
   "cell_type": "code",
   "execution_count": 11,
   "metadata": {},
   "outputs": [
    {
     "data": {
      "text/plain": "((2, 3, 3), (2, 2, 2))"
     },
     "execution_count": 11,
     "metadata": {},
     "output_type": "execute_result"
    }
   ],
   "source": [
    "X.shape, K.shape # (2 3 3), ( 2 2 2)"
   ]
  },
  {
   "cell_type": "code",
   "execution_count": 14,
   "metadata": {},
   "outputs": [
    {
     "name": "stdout",
     "output_type": "stream",
     "text": "\n[[19. 25.]\n [37. 43.]]\n<NDArray 2x2 @cpu(0)>\n\n[[37. 47.]\n [67. 77.]]\n<NDArray 2x2 @cpu(0)>\n"
    }
   ],
   "source": [
    "zipp = zip(X, K)\n",
    "for x, k in zipp:\n",
    "    y = d2l.corr2d(x, k)\n",
    "    print(y)"
   ]
  },
  {
   "cell_type": "code",
   "execution_count": 29,
   "metadata": {},
   "outputs": [],
   "source": [
    "out = nd.add_n(*[d2l.corr2d(x, k) for x, k in zip(X, K)])"
   ]
  },
  {
   "cell_type": "code",
   "execution_count": 30,
   "metadata": {},
   "outputs": [
    {
     "data": {
      "text/plain": "\n[[ 56.  72.]\n [104. 120.]]\n<NDArray 2x2 @cpu(0)>"
     },
     "execution_count": 30,
     "metadata": {},
     "output_type": "execute_result"
    }
   ],
   "source": [
    "out"
   ]
  },
  {
   "cell_type": "code",
   "execution_count": 28,
   "metadata": {},
   "outputs": [
    {
     "ename": "SyntaxError",
     "evalue": "can't use starred expression here (<ipython-input-28-def9dbed0b31>, line 4)",
     "output_type": "error",
     "traceback": [
      "\u001b[1;36m  File \u001b[1;32m\"<ipython-input-28-def9dbed0b31>\"\u001b[1;36m, line \u001b[1;32m4\u001b[0m\n\u001b[1;31mSyntaxError\u001b[0m\u001b[1;31m:\u001b[0m can't use starred expression here\n"
     ]
    }
   ],
   "source": [
    "*[d2l.corr2d(x, k) for x, k in zip(X, K)]"
   ]
  },
  {
   "cell_type": "code",
   "execution_count": 39,
   "metadata": {},
   "outputs": [],
   "source": [
    "X = nd.random.uniform(shape=(3,3,3))\n",
    "K = nd.random.uniform(shape=(2,3,1,1))\n",
    "\n",
    "_X = X.reshape((3, 9))\n",
    "_K = K.reshape((2,3))"
   ]
  },
  {
   "cell_type": "code",
   "execution_count": 40,
   "metadata": {},
   "outputs": [
    {
     "data": {
      "text/plain": "(\n [[0.56660146 0.8651026  0.2653895  0.50896895 0.5232481  0.91672295\n   0.0939405  0.9211576  0.5759465 ]\n  [0.08311249 0.9292962  0.27771857 0.31856894 0.0093567  0.6674104\n   0.8423421  0.13179787 0.6471741 ]\n  [0.7163272  0.84138614 0.2894061  0.26473016 0.18319136 0.39782074\n   0.5865129  0.55282146 0.02010755]]\n <NDArray 3x9 @cpu(0)>, \n [[0.16494046 0.82894003 0.3698081 ]\n  [0.00469548 0.14644176 0.6778165 ]]\n <NDArray 2x3 @cpu(0)>)"
     },
     "execution_count": 40,
     "metadata": {},
     "output_type": "execute_result"
    }
   ],
   "source": [
    "_X, _K"
   ]
  },
  {
   "cell_type": "code",
   "execution_count": 41,
   "metadata": {},
   "outputs": [
    {
     "data": {
      "text/plain": "(\n [[[0.56660146 0.8651026  0.2653895 ]\n   [0.50896895 0.5232481  0.91672295]\n   [0.0939405  0.9211576  0.5759465 ]]\n \n  [[0.08311249 0.9292962  0.27771857]\n   [0.31856894 0.0093567  0.6674104 ]\n   [0.8423421  0.13179787 0.6471741 ]]\n \n  [[0.7163272  0.84138614 0.2894061 ]\n   [0.26473016 0.18319136 0.39782074]\n   [0.5865129  0.55282146 0.02010755]]]\n <NDArray 3x3x3 @cpu(0)>, \n [[[[0.16494046]]\n \n   [[0.82894003]]\n \n   [[0.3698081 ]]]\n \n \n  [[[0.00469548]]\n \n   [[0.14644176]]\n \n   [[0.6778165 ]]]]\n <NDArray 2x3x1x1 @cpu(0)>)"
     },
     "execution_count": 41,
     "metadata": {},
     "output_type": "execute_result"
    }
   ],
   "source": [
    "X, K"
   ]
  },
  {
   "cell_type": "code",
   "execution_count": null,
   "metadata": {},
   "outputs": [],
   "source": [
    "# ......"
   ]
  },
  {
   "cell_type": "code",
   "execution_count": 42,
   "metadata": {},
   "outputs": [],
   "source": [
    "def corr2d_multi_in(X, K):\n",
    "    return nd.add_n(*[d2l.corr2d(x, k) for x, k in zip(X, K)])"
   ]
  },
  {
   "cell_type": "code",
   "execution_count": 43,
   "metadata": {},
   "outputs": [],
   "source": [
    "def corr2d_multi_in_out(X, K):\n",
    "    return nd.stack(*[corr2d_multi_in(X, k) for k in K])"
   ]
  },
  {
   "cell_type": "code",
   "execution_count": 44,
   "metadata": {},
   "outputs": [],
   "source": [
    "def corr2d_multi_in_out_1x1(X, K):\n",
    "    c_i, h, w = X.shape\n",
    "    c_o = K.shape[0]\n",
    "    X = X.reshape((c_i, h*w))\n",
    "    K = K.reshape((c_o, c_i))\n",
    "    Y = nd.dot(K, X)\n",
    "\n",
    "    return Y.reshape((c_o, h, w))"
   ]
  },
  {
   "cell_type": "code",
   "execution_count": 47,
   "metadata": {},
   "outputs": [],
   "source": [
    "X = nd.random.uniform(shape=(3,3,3))\n",
    "K = nd.random.uniform(shape=(2,3,1,1))\n",
    "\n",
    "Y1 = corr2d_multi_in_out_1x1(X, K)\n",
    "Y2 = corr2d_multi_in_out(X, K)"
   ]
  },
  {
   "cell_type": "code",
   "execution_count": 49,
   "metadata": {},
   "outputs": [
    {
     "data": {
      "text/plain": "\n[[[ 0.0000000e+00 -1.1920929e-07  0.0000000e+00]\n  [ 0.0000000e+00  0.0000000e+00 -5.9604645e-08]\n  [ 0.0000000e+00  0.0000000e+00 -1.1920929e-07]]\n\n [[ 0.0000000e+00 -2.9802322e-08 -1.4901161e-08]\n  [ 0.0000000e+00  0.0000000e+00 -1.4901161e-08]\n  [ 0.0000000e+00  2.9802322e-08  2.9802322e-08]]]\n<NDArray 2x3x3 @cpu(0)>"
     },
     "execution_count": 49,
     "metadata": {},
     "output_type": "execute_result"
    }
   ],
   "source": [
    "Y1 - Y2"
   ]
  },
  {
   "cell_type": "code",
   "execution_count": null,
   "metadata": {},
   "outputs": [],
   "source": []
  }
 ]
}